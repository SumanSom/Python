{
 "cells": [
  {
   "cell_type": "code",
   "execution_count": null,
   "id": "2ffedfee",
   "metadata": {},
   "outputs": [],
   "source": [
    "n=int(input(\"Enter a number:\"))\n",
    "temp=0\n",
    "c=str()\n",
    "while(n!=0):\n",
    "    temp=n%2\n",
    "    c=c+str(temp)\n",
    "    n=n//2\n",
    "print(c[::-1])"
   ]
  }
 ],
 "metadata": {
  "kernelspec": {
   "display_name": "Python 3 (ipykernel)",
   "language": "python",
   "name": "python3"
  },
  "language_info": {
   "codemirror_mode": {
    "name": "ipython",
    "version": 3
   },
   "file_extension": ".py",
   "mimetype": "text/x-python",
   "name": "python",
   "nbconvert_exporter": "python",
   "pygments_lexer": "ipython3",
   "version": "3.9.7"
  }
 },
 "nbformat": 4,
 "nbformat_minor": 5
}
