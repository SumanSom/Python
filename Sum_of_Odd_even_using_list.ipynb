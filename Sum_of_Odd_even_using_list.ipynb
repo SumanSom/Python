{
 "cells": [
  {
   "cell_type": "code",
   "execution_count": 1,
   "id": "a7f9942d",
   "metadata": {},
   "outputs": [
    {
     "name": "stdout",
     "output_type": "stream",
     "text": [
      "Enter a number:5\n",
      "[0, 2, 6]\n",
      "[1, 4]\n"
     ]
    }
   ],
   "source": [
    "even_l=[]\n",
    "odd_l=[]\n",
    "n=int(input(\"Enter a number:\"))\n",
    "a=0\n",
    "b=0\n",
    "for i in range(n):\n",
    "    if(i%2==0):\n",
    "        a=a+i\n",
    "        even_l.append(a)\n",
    "    else:\n",
    "        b=b+i\n",
    "        odd_l.append(b)\n",
    "print(even_l)\n",
    "print(odd_l)"
   ]
  }
 ],
 "metadata": {
  "kernelspec": {
   "display_name": "Python 3 (ipykernel)",
   "language": "python",
   "name": "python3"
  },
  "language_info": {
   "codemirror_mode": {
    "name": "ipython",
    "version": 3
   },
   "file_extension": ".py",
   "mimetype": "text/x-python",
   "name": "python",
   "nbconvert_exporter": "python",
   "pygments_lexer": "ipython3",
   "version": "3.9.7"
  }
 },
 "nbformat": 4,
 "nbformat_minor": 5
}
